{
 "cells": [
  {
   "cell_type": "markdown",
   "metadata": {
    "deletable": true,
    "editable": true
   },
   "source": [
    "# Avg Duration of Legislative Periods in Austria\n",
    "fetch data from Wikipedia, parse for Dates, calculate difference, calculate average and median"
   ]
  },
  {
   "cell_type": "code",
   "execution_count": 1,
   "metadata": {
    "collapsed": true,
    "deletable": true,
    "editable": true
   },
   "outputs": [],
   "source": [
    "import numpy\n",
    "import re\n",
    "import sys\n",
    "import arrow\n",
    "import requests\n",
    "import bs4"
   ]
  },
  {
   "cell_type": "code",
   "execution_count": 2,
   "metadata": {
    "collapsed": false,
    "deletable": true,
    "editable": true
   },
   "outputs": [],
   "source": [
    "#r = requests.get(\"https://de.wikipedia.org/w/index.php?title=Nationalrat_(%C3%96sterreich)&oldid=168761906\")"
   ]
  },
  {
   "cell_type": "code",
   "execution_count": 3,
   "metadata": {
    "collapsed": false,
    "deletable": true,
    "editable": true
   },
   "outputs": [],
   "source": [
    "r = requests.get(\"https://de.wikipedia.org/w/index.php?title=Nationalrat_(%C3%96sterreich)&oldid=171326329\")"
   ]
  },
  {
   "cell_type": "code",
   "execution_count": 4,
   "metadata": {
    "collapsed": true,
    "deletable": true,
    "editable": true
   },
   "outputs": [],
   "source": [
    "soup = bs4.BeautifulSoup(r.content,\"html.parser\")"
   ]
  },
  {
   "cell_type": "code",
   "execution_count": 5,
   "metadata": {
    "collapsed": false,
    "deletable": true,
    "editable": true
   },
   "outputs": [],
   "source": [
    "perioden_header = soup.find(id=\"Gesetzgebungsperioden\")\n",
    "perioden = perioden_header.find_parent()\n",
    "perioden_children = perioden.find_next_siblings()\n",
    "table = perioden_children[1]\n",
    "#print(table)\n",
    "cells = table.findAll('td')"
   ]
  },
  {
   "cell_type": "code",
   "execution_count": 6,
   "metadata": {
    "collapsed": false,
    "deletable": true,
    "editable": true
   },
   "outputs": [],
   "source": [
    "#cell = cells[9]\n",
    "#cell.contents[0]"
   ]
  },
  {
   "cell_type": "code",
   "execution_count": 7,
   "metadata": {
    "collapsed": false,
    "deletable": true,
    "editable": true
   },
   "outputs": [
    {
     "data": {
      "text/plain": [
       "[('21.10.1918', '16.02.1919'),\n",
       " ('04.03.1919', '09.11.1920'),\n",
       " ('10.11.1920', '20.11.1923'),\n",
       " ('20.11.1923', '18.05.1927'),\n",
       " ('18.05.1927', '01.10.1930'),\n",
       " ('02.12.1930', '02.05.1934'),\n",
       " ('19.12.1945', '08.11.1949'),\n",
       " ('08.11.1949', '18.03.1953'),\n",
       " ('18.03.1953', '08.06.1956'),\n",
       " ('08.06.1956', '09.06.1959'),\n",
       " ('09.06.1959', '14.12.1962'),\n",
       " ('14.12.1962', '30.03.1966'),\n",
       " ('30.03.1966', '31.03.1970'),\n",
       " ('31.03.1970', '04.11.1971'),\n",
       " ('04.11.1971', '04.11.1975'),\n",
       " ('04.11.1975', '04.06.1979'),\n",
       " ('05.06.1979', '18.05.1983'),\n",
       " ('19.05.1983', '16.12.1986'),\n",
       " ('17.12.1986', '04.11.1990'),\n",
       " ('05.11.1990', '06.11.1994'),\n",
       " ('07.11.1994', '14.01.1996'),\n",
       " ('15.01.1996', '28.10.1999'),\n",
       " ('29.10.1999', '19.12.2002'),\n",
       " ('20.12.2002', '29.10.2006'),\n",
       " ('30.10.2006', '27.10.2008'),\n",
       " ('28.10.2008', '28.10.2013'),\n",
       " ('29.10.2013', '08.11.2017')]"
      ]
     },
     "execution_count": 7,
     "metadata": {},
     "output_type": "execute_result"
    }
   ],
   "source": [
    "patt = r\"([0-9]{2}.[0-9]{2}.[0-9]{4}).–.* ?([0-9]{2}.[0-9]{2}.[0-9]{4})\"\n",
    "p = re.compile(patt)\n",
    "date_cells = []\n",
    "for c in cells:\n",
    "    #print(c.contents)\n",
    "    if re.match(patt,str(c.contents[0])):\n",
    "        date_cells.append(p.findall( str(c.contents[0]) )[0])\n",
    "date_cells"
   ]
  },
  {
   "cell_type": "code",
   "execution_count": 8,
   "metadata": {
    "collapsed": false,
    "deletable": true,
    "editable": true
   },
   "outputs": [
    {
     "name": "stdout",
     "output_type": "stream",
     "text": [
      "118 days, 0:00:00\n",
      "616 days, 0:00:00\n",
      "1105 days, 0:00:00\n",
      "1275 days, 0:00:00\n",
      "1232 days, 0:00:00\n",
      "1247 days, 0:00:00\n",
      "1420 days, 0:00:00\n",
      "1226 days, 0:00:00\n",
      "1178 days, 0:00:00\n",
      "1096 days, 0:00:00\n",
      "1284 days, 0:00:00\n",
      "1202 days, 0:00:00\n",
      "1462 days, 0:00:00\n",
      "583 days, 0:00:00\n",
      "1461 days, 0:00:00\n",
      "1308 days, 0:00:00\n",
      "1443 days, 0:00:00\n",
      "1307 days, 0:00:00\n",
      "1418 days, 0:00:00\n",
      "1462 days, 0:00:00\n",
      "433 days, 0:00:00\n",
      "1382 days, 0:00:00\n",
      "1147 days, 0:00:00\n",
      "1409 days, 0:00:00\n",
      "728 days, 0:00:00\n",
      "1826 days, 0:00:00\n",
      "1471 days, 0:00:00\n"
     ]
    }
   ],
   "source": [
    "dur = []\n",
    "for i in date_cells:\n",
    "    #print(i)\n",
    "    start = arrow.get(i[0],'DD.MM.YYYY')\n",
    "    end = arrow.get(i[1], 'DD.MM.YYYY')\n",
    "    duration = end - start\n",
    "    print(duration)\n",
    "    dur.append(duration.days)"
   ]
  },
  {
   "cell_type": "code",
   "execution_count": 9,
   "metadata": {
    "collapsed": false,
    "deletable": true,
    "editable": true
   },
   "outputs": [
    {
     "name": "stdout",
     "output_type": "stream",
     "text": [
      "Average days:  1179.22222222\n",
      "Average years:  3.22853448931\n",
      "Median days:  1275.0\n",
      "Median years:  3.49075975359\n"
     ]
    }
   ],
   "source": [
    "print(\"Average days: \",numpy.average(dur))\n",
    "\n",
    "print(\"Average years: \",numpy.average(dur)/365.25)\n",
    "\n",
    "print(\"Median days: \",numpy.median(dur))\n",
    "\n",
    "print(\"Median years: \",numpy.median(dur)/365.25)"
   ]
  },
  {
   "cell_type": "code",
   "execution_count": 10,
   "metadata": {
    "collapsed": false,
    "deletable": true,
    "editable": true
   },
   "outputs": [
    {
     "name": "stdout",
     "output_type": "stream",
     "text": [
      "Average days (seit 1945):  1249.80952381\n",
      "Average years (seit 1945):  3.42179198853\n",
      "Median days (seit 1945):  1308.0\n",
      "Median years (seit 1945):  3.58110882957\n"
     ]
    }
   ],
   "source": [
    "# from 1945\n",
    "print(\"Average days (seit 1945): \",numpy.average(dur[6:]))\n",
    "\n",
    "print(\"Average years (seit 1945): \",numpy.average(dur[6:])/365.25)\n",
    "\n",
    "print(\"Median days (seit 1945): \",numpy.median(dur[6:]))\n",
    "\n",
    "print(\"Median years (seit 1945): \",numpy.median(dur[6:])/365.25)"
   ]
  },
  {
   "cell_type": "code",
   "execution_count": null,
   "metadata": {
    "collapsed": true,
    "deletable": true,
    "editable": true
   },
   "outputs": [],
   "source": []
  }
 ],
 "metadata": {
  "kernelspec": {
   "display_name": "Python 3",
   "language": "python",
   "name": "python3"
  },
  "language_info": {
   "codemirror_mode": {
    "name": "ipython",
    "version": 3
   },
   "file_extension": ".py",
   "mimetype": "text/x-python",
   "name": "python",
   "nbconvert_exporter": "python",
   "pygments_lexer": "ipython3",
   "version": "3.5.2"
  }
 },
 "nbformat": 4,
 "nbformat_minor": 2
}

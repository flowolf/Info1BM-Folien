{
 "cells": [
  {
   "cell_type": "markdown",
   "metadata": {},
   "source": [
    "# Setup for Notebooks"
   ]
  },
  {
   "cell_type": "code",
   "execution_count": null,
   "metadata": {},
   "outputs": [],
   "source": [
    "%matplotlib inline"
   ]
  },
  {
   "cell_type": "code",
   "execution_count": null,
   "metadata": {},
   "outputs": [],
   "source": [
    "# We will just use that a lot in general\n",
    "import numpy as np"
   ]
  },
  {
   "cell_type": "markdown",
   "metadata": {},
   "source": [
    "# My First Plot"
   ]
  },
  {
   "cell_type": "code",
   "execution_count": null,
   "metadata": {},
   "outputs": [],
   "source": [
    "from matplotlib import pyplot as plt\n",
    "\n",
    "plt.plot([0, 1, 3, 5, 17, 17, 25, 35])\n",
    "# plt.show() # Not needed in notebooks"
   ]
  },
  {
   "cell_type": "markdown",
   "metadata": {},
   "source": [
    "### Clean Version"
   ]
  },
  {
   "cell_type": "code",
   "execution_count": null,
   "metadata": {},
   "outputs": [],
   "source": [
    "from matplotlib import pyplot as plt\n",
    "\n",
    "figure, axis = plt.subplots()\n",
    "ys = [0, 1, 3, 5, 17, 17, 25, 35]\n",
    "xs = np.arange(len(ys))\n",
    "axis.plot(xs, ys)\n",
    "\n",
    "# axis.show() # Not needed in notebooks"
   ]
  },
  {
   "cell_type": "markdown",
   "metadata": {},
   "source": [
    "# Adding Labels"
   ]
  },
  {
   "cell_type": "code",
   "execution_count": null,
   "metadata": {},
   "outputs": [],
   "source": [
    "from matplotlib import pyplot as plt\n",
    "\n",
    "figure, axis = plt.subplots()\n",
    "ys = [0, 1, 3, 5, 17, 17, 25, 35]\n",
    "xs = np.arange(len(ys))\n",
    "axis.plot(xs, ys)\n",
    "axis.set_xlabel(\"Training Epoch\")\n",
    "axis.set_ylabel(\"Classification Rate\")"
   ]
  },
  {
   "cell_type": "markdown",
   "metadata": {},
   "source": [
    "# Adding Markers"
   ]
  },
  {
   "cell_type": "code",
   "execution_count": null,
   "metadata": {},
   "outputs": [],
   "source": [
    "from matplotlib import pyplot as plt\n",
    "\n",
    "figure, axis = plt.subplots()\n",
    "ys = [0, 1, 3, 5, 17, 17, 25, 35]\n",
    "xs = np.arange(len(ys))\n",
    "axis.plot(xs, ys, \n",
    "          marker=\"o\", \n",
    "          markersize=10, \n",
    "          markeredgecolor=\"red\",\n",
    "          markerfacecolor=\"yellow\")\n",
    "axis.set_xlabel(\"Training Epoch\")\n",
    "axis.set_ylabel(\"Classification Rate\")"
   ]
  },
  {
   "cell_type": "markdown",
   "metadata": {},
   "source": [
    "# Adding a Legend"
   ]
  },
  {
   "cell_type": "code",
   "execution_count": null,
   "metadata": {},
   "outputs": [],
   "source": [
    "from matplotlib import pyplot as plt\n",
    "\n",
    "figure, axis = plt.subplots()\n",
    "ys = [0, 1, 3, 5, 17, 17, 25, 35]\n",
    "xs = np.arange(len(ys))\n",
    "axis.plot(xs, ys, \n",
    "          marker=\"x\", \n",
    "          markersize=10, \n",
    "          markeredgecolor=\"red\",\n",
    "          label=\"Neural Network\")\n",
    "axis.set_xlabel(\"Training Epoch\")\n",
    "axis.set_ylabel(\"Classification Rate\")\n",
    "axis.legend()"
   ]
  },
  {
   "cell_type": "markdown",
   "metadata": {},
   "source": [
    "# Adding an Annotation"
   ]
  },
  {
   "cell_type": "code",
   "execution_count": null,
   "metadata": {},
   "outputs": [],
   "source": [
    "from matplotlib import pyplot as plt\n",
    "\n",
    "figure, axis = plt.subplots()\n",
    "ys = [0, 1, 3, 5, 17, 17, 25, 35]\n",
    "xs = np.arange(len(ys))\n",
    "axis.plot(xs, ys, \n",
    "          marker=\"x\", \n",
    "          markersize=10, \n",
    "          markeredgecolor=\"red\",\n",
    "          label=\"Neural Network\")\n",
    "axis.annotate('WTF?!?', \n",
    "              xy=(4.5, 16), \n",
    "              xytext=(5.5, 5), \n",
    "              arrowprops=dict(facecolor='black', \n",
    "                              shrink=0.05), \n",
    "              fontsize=20 )\n",
    "axis.set_xlabel(\"Training Epoch\")\n",
    "axis.set_ylabel(\"Classification Rate\")\n",
    "axis.legend()"
   ]
  },
  {
   "cell_type": "markdown",
   "metadata": {},
   "source": [
    "# Multiple Lines"
   ]
  },
  {
   "cell_type": "code",
   "execution_count": null,
   "metadata": {},
   "outputs": [],
   "source": [
    "from matplotlib import pyplot as plt\n",
    "\n",
    "figure, axis = plt.subplots()\n",
    "ys = [0, 1, 3, 5, 17, 17, 25, 35]\n",
    "xs = np.arange(len(ys))\n",
    "axis.plot(xs, ys, \n",
    "          marker=\"x\", \n",
    "          markersize=10, \n",
    "          markeredgecolor=\"red\",\n",
    "          label=\"Neural Network\")\n",
    "\n",
    "axis.plot(xs, [0, 0, 1, 1, 2, 3, 5, 9], \n",
    "          marker=\"o\", \n",
    "          markersize=10, \n",
    "          markeredgecolor=\"green\",\n",
    "          label=\"Boosted Decision Tree\")\n",
    "axis.set_xlabel(\"Training Epoch\")\n",
    "axis.set_ylabel(\"Classification Rate\")\n",
    "axis.legend()"
   ]
  },
  {
   "cell_type": "markdown",
   "metadata": {},
   "source": [
    "# Saving Plots"
   ]
  },
  {
   "cell_type": "code",
   "execution_count": null,
   "metadata": {},
   "outputs": [],
   "source": [
    "from matplotlib import pyplot as plt\n",
    "\n",
    "figure, axis = plt.subplots()\n",
    "ys = [0, 1, 3, 5, 17, 17, 25, 35]\n",
    "xs = np.arange(len(ys))\n",
    "axis.plot(xs, ys, \n",
    "          marker=\"x\", \n",
    "          markersize=10, \n",
    "          markeredgecolor=\"red\",\n",
    "          label=\"Neural Network\")\n",
    "\n",
    "axis.plot(xs, [0, 0, 1, 1, 2, 3, 5, 9], \n",
    "          marker=\"o\", \n",
    "          markersize=10, \n",
    "          markeredgecolor=\"green\",\n",
    "          label=\"Boosted Decision Tree\")\n",
    "axis.set_xlabel(\"Training Epoch\")\n",
    "axis.set_ylabel(\"Classification Rate\")\n",
    "axis.legend()\n",
    "figure.savefig(\"rate_over_epochs.png\", \n",
    "               transparent=True, \n",
    "               bbox_inches=\"tight\")\n",
    "figure.savefig(\"rate_over_epochs.pdf\", \n",
    "               transparent=True, \n",
    "               bbox_inches=\"tight\")"
   ]
  },
  {
   "cell_type": "markdown",
   "metadata": {},
   "source": [
    "# Other Plot Types"
   ]
  },
  {
   "cell_type": "markdown",
   "metadata": {},
   "source": [
    "### Histogram"
   ]
  },
  {
   "cell_type": "code",
   "execution_count": null,
   "metadata": {},
   "outputs": [],
   "source": [
    "# We just use bokeh here to grab the dataset\n",
    "from bokeh.sampledata.autompg import autompg as car_data"
   ]
  },
  {
   "cell_type": "code",
   "execution_count": null,
   "metadata": {},
   "outputs": [],
   "source": [
    "mpgs = list(car_data['mpg'])\n",
    "figure, axis = plt.subplots()\n",
    "_ = axis.hist(mpgs, edgecolor=\"black\")\n",
    "axis.set_xlabel(\"Miles Per Gallon\")\n",
    "axis.set_ylabel(\"$\\#$ Cars\")\n",
    "figure.savefig(\"histogram.pdf\", transparent=True, bbox_inches=\"tight\")"
   ]
  },
  {
   "cell_type": "markdown",
   "metadata": {},
   "source": [
    "### Bar Chart"
   ]
  },
  {
   "cell_type": "code",
   "execution_count": null,
   "metadata": {},
   "outputs": [],
   "source": [
    "mpgs = list(car_data['mpg'])[0:10]\n",
    "hp = list(car_data['hp'])[0:10]\n",
    "names = list(car_data['name'])[0:10]\n",
    "indices = np.arange(len(mpgs))\n",
    "figure, axis = plt.subplots()\n",
    "bar_width = 0.3\n",
    "axis.bar(indices, mpgs, bar_width)\n",
    "axis.bar(indices + bar_width, hp, bar_width)\n",
    "axis.set_xticks(indices + bar_width / 2)\n",
    "axis.set_xticklabels(labels=names, rotation=\"vertical\")\n",
    "figure.tight_layout()\n",
    "axis.get_xticklabels()"
   ]
  },
  {
   "cell_type": "markdown",
   "metadata": {},
   "source": [
    "### Scatter"
   ]
  },
  {
   "cell_type": "code",
   "execution_count": null,
   "metadata": {},
   "outputs": [],
   "source": [
    "mpgs = list(car_data['mpg'])\n",
    "weights = list(car_data['weight'])\n",
    "figure, axis = plt.subplots()\n",
    "_ = axis.scatter(mpgs, weights)\n",
    "axis.set_xlabel(\"MPG\")\n",
    "axis.set_ylabel(\"Weight\")\n",
    "figure.tight_layout()"
   ]
  },
  {
   "cell_type": "markdown",
   "metadata": {},
   "source": [
    "# Subplots"
   ]
  },
  {
   "cell_type": "code",
   "execution_count": null,
   "metadata": {},
   "outputs": [],
   "source": [
    "figure, axes = plt.subplots((2), \n",
    "                            sharex=True)\n",
    "axes[0].hist(mpgs, edgecolor=\"black\")\n",
    "axes[0].set_ylabel(\"$\\#$ Cars\")\n",
    "\n",
    "axes[1].scatter(mpgs, weights)\n",
    "axes[1].set_xlabel(\"Miles Per Gallon\")\n",
    "axes[1].set_ylabel(\"Weight\")\n",
    "figure.tight_layout()"
   ]
  },
  {
   "cell_type": "code",
   "execution_count": null,
   "metadata": {},
   "outputs": [],
   "source": [
    "figure, axes = plt.subplots((2), \n",
    "                            sharex=True)\n",
    "axes[0].hist(mpgs, edgecolor=\"black\")\n",
    "axes[0].set_ylabel(\"$\\#$ Cars\")\n",
    "\n",
    "axes[1].scatter(mpgs, weights)\n",
    "axes[1].set_xlabel(\"Miles Per Gallon\")\n",
    "axes[1].set_ylabel(\"Weight\")\n",
    "figure.tight_layout()\n",
    "figure.subplots_adjust(hspace=0)"
   ]
  },
  {
   "cell_type": "markdown",
   "metadata": {},
   "source": [
    "# Scaling Normal vs Log"
   ]
  },
  {
   "cell_type": "code",
   "execution_count": null,
   "metadata": {},
   "outputs": [],
   "source": [
    "import csv\n",
    "with open('market-price.csv', \"r\") as csvfile:\n",
    "    csv_data = list(csv.reader(csvfile, delimiter=\",\"))\n",
    "timestamps = [x[0] for x in csv_data]\n",
    "values = [float(x[1]) for x in csv_data]"
   ]
  },
  {
   "cell_type": "code",
   "execution_count": null,
   "metadata": {},
   "outputs": [],
   "source": [
    "figure, axis = plt.subplots(figsize=(10, 2))\n",
    "axis.plot(values)\n",
    "axis.set_yscale(\"symlog\")\n",
    "axis.set_xlabel(\"Age in Days\")\n",
    "axis.set_ylabel(\"$log(Value\\ in\\ \\$)$\")\n",
    "figure.tight_layout()"
   ]
  },
  {
   "cell_type": "code",
   "execution_count": null,
   "metadata": {},
   "outputs": [],
   "source": [
    "figure, axis = plt.subplots(figsize=(10, 2))\n",
    "axis.plot(values)\n",
    "axis.set_xlabel(\"Age in Days\")\n",
    "axis.set_ylabel(\"Value in $\")\n",
    "figure.tight_layout()"
   ]
  },
  {
   "cell_type": "code",
   "execution_count": null,
   "metadata": {},
   "outputs": [],
   "source": []
  }
 ],
 "metadata": {
  "kernelspec": {
   "display_name": "Python 3",
   "language": "python",
   "name": "python3"
  },
  "language_info": {
   "codemirror_mode": {
    "name": "ipython",
    "version": 3
   },
   "file_extension": ".py",
   "mimetype": "text/x-python",
   "name": "python",
   "nbconvert_exporter": "python",
   "pygments_lexer": "ipython3",
   "version": "3.7.0"
  }
 },
 "nbformat": 4,
 "nbformat_minor": 2
}

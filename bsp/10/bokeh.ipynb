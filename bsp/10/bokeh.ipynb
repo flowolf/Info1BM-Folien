{
 "cells": [
  {
   "cell_type": "markdown",
   "metadata": {},
   "source": [
    "# Setup for Notebooks"
   ]
  },
  {
   "cell_type": "code",
   "execution_count": null,
   "metadata": {},
   "outputs": [],
   "source": [
    "from bokeh.io import output_notebook, show\n",
    "output_notebook()"
   ]
  },
  {
   "cell_type": "code",
   "execution_count": null,
   "metadata": {},
   "outputs": [],
   "source": [
    "# We will just use that a lot in general\n",
    "import numpy as np"
   ]
  },
  {
   "cell_type": "markdown",
   "metadata": {},
   "source": [
    "# My First Plot"
   ]
  },
  {
   "cell_type": "code",
   "execution_count": null,
   "metadata": {},
   "outputs": [],
   "source": [
    "from bokeh.plotting import figure as bokeh_figure\n",
    "\n",
    "figure = bokeh_figure()\n",
    "ys = [0, 1, 3, 5, 17, 17, 25, 35]\n",
    "xs = np.arange(len(ys))\n",
    "figure.line(xs, ys)\n",
    "show(figure)"
   ]
  },
  {
   "cell_type": "markdown",
   "metadata": {},
   "source": [
    "### Clean Version"
   ]
  },
  {
   "cell_type": "code",
   "execution_count": null,
   "metadata": {},
   "outputs": [],
   "source": [
    "# Bokeh is already clean \\o/"
   ]
  },
  {
   "cell_type": "markdown",
   "metadata": {},
   "source": [
    "# Adding Labels"
   ]
  },
  {
   "cell_type": "code",
   "execution_count": null,
   "metadata": {},
   "outputs": [],
   "source": [
    "from bokeh.plotting import figure as bokeh_figure\n",
    "\n",
    "figure = bokeh_figure()\n",
    "ys = [0, 1, 3, 5, 17, 17, 25, 35]\n",
    "xs = np.arange(len(ys))\n",
    "figure.line(xs, ys)\n",
    "figure.xaxis.axis_label = \"Training Epoch\"\n",
    "figure.yaxis.axis_label = \"Classification Rate\"\n",
    "show(figure)"
   ]
  },
  {
   "cell_type": "markdown",
   "metadata": {},
   "source": [
    "# Adding a Legend"
   ]
  },
  {
   "cell_type": "code",
   "execution_count": null,
   "metadata": {},
   "outputs": [],
   "source": [
    "from bokeh.plotting import figure as bokeh_figure\n",
    "from bokeh.models import Label, Arrow, NormalHead\n",
    "\n",
    "figure = bokeh_figure()\n",
    "ys = [0, 1, 3, 5, 17, 17, 25, 35]\n",
    "xs = np.arange(len(ys))\n",
    "figure.line(xs, ys, legend=\"Neural Network\")\n",
    "figure.scatter(xs, ys, marker=\"x\", size=10, color=\"red\", legend=\"Neural Network\")\n",
    "figure.xaxis.axis_label = \"Training Epoch\"\n",
    "figure.yaxis.axis_label = \"Classification Rate\"\n",
    "show(figure)"
   ]
  },
  {
   "cell_type": "markdown",
   "metadata": {},
   "source": [
    "# Adding Markers"
   ]
  },
  {
   "cell_type": "code",
   "execution_count": null,
   "metadata": {},
   "outputs": [],
   "source": [
    "from bokeh.plotting import figure as bokeh_figure\n",
    "from bokeh.models import Label, Arrow, NormalHead\n",
    "\n",
    "figure = bokeh_figure()\n",
    "ys = [0, 1, 3, 5, 17, 17, 25, 35]\n",
    "xs = np.arange(len(ys))\n",
    "figure.line(xs, ys, legend=\"Neural Network\")\n",
    "figure.scatter(xs, ys, marker=\"x\", size=10, color=\"red\", legend=\"Neural Network\")\n",
    "figure.add_layout(Label(x=5.5, y=5, text=\"WTF?!?\", text_font_size=\"20pt\"))\n",
    "figure.add_layout(Arrow(end=NormalHead(), x_start=5.5, y_start=7, x_end=4.5, y_end=16, line_width=5))\n",
    "figure.xaxis.axis_label = \"Training Epoch\"\n",
    "figure.yaxis.axis_label = \"Classification Rate\"\n",
    "show(figure)"
   ]
  },
  {
   "cell_type": "markdown",
   "metadata": {},
   "source": [
    "# Multiple Lines"
   ]
  },
  {
   "cell_type": "code",
   "execution_count": null,
   "metadata": {},
   "outputs": [],
   "source": [
    "from bokeh.plotting import figure as bokeh_figure\n",
    "from bokeh.models import Label, Arrow, NormalHead\n",
    "\n",
    "figure = bokeh_figure()\n",
    "ys = [0, 1, 3, 5, 17, 17, 25, 35]\n",
    "xs = np.arange(len(ys))\n",
    "figure.line(xs, ys, legend=\"Neural Network\")\n",
    "figure.scatter(xs, ys, marker=\"x\", size=10, color=\"red\", legend=\"Neural Network\")\n",
    "\n",
    "figure.line(xs, [0, 0, 1, 1, 2, 3, 5, 9], color=\"orange\", legend=\"Boosted Decision tree\")\n",
    "figure.scatter(xs, [0, 0, 1, 1, 2, 3, 5, 9], marker=\"o\", size=10, color=\"green\", legend=\"Boosted Decision tree\")\n",
    "\n",
    "figure.xaxis.axis_label = \"Training Epoch\"\n",
    "figure.yaxis.axis_label = \"Classification Rate\"\n",
    "show(figure)"
   ]
  },
  {
   "cell_type": "markdown",
   "metadata": {},
   "source": [
    "# Saving Plots"
   ]
  },
  {
   "cell_type": "code",
   "execution_count": null,
   "metadata": {},
   "outputs": [],
   "source": [
    "from bokeh.plotting import figure as bokeh_figure\n",
    "from bokeh.models import Label, Arrow, NormalHead\n",
    "\n",
    "figure = bokeh_figure()\n",
    "ys = [0, 1, 3, 5, 17, 17, 25, 35]\n",
    "xs = np.arange(len(ys))\n",
    "figure.line(xs, ys, legend=\"Neural Network\")\n",
    "figure.scatter(xs, ys, marker=\"x\", size=10, color=\"red\", legend=\"Neural Network\")\n",
    "\n",
    "figure.line(xs, [0, 0, 1, 1, 2, 3, 5, 9], color=\"orange\", legend=\"Boosted Decision tree\")\n",
    "figure.scatter(xs, [0, 0, 1, 1, 2, 3, 5, 9], marker=\"o\", size=10, color=\"green\", legend=\"Boosted Decision tree\")\n",
    "\n",
    "figure.xaxis.axis_label = \"Training Epoch\"\n",
    "figure.yaxis.axis_label = \"Classification Rate\"\n",
    "show(figure)"
   ]
  },
  {
   "cell_type": "code",
   "execution_count": null,
   "metadata": {},
   "outputs": [],
   "source": [
    "from bokeh.plotting import output_file, save\n",
    "\n",
    "from bokeh.plotting import figure as bokeh_figure\n",
    "from bokeh.models import Label, Arrow, NormalHead\n",
    "\n",
    "figure = bokeh_figure()\n",
    "# figure.output_backend = \"svg\" # use if you want the save option to store a svg\n",
    "output_file(\"rate_over_epochs.html\")\n",
    "ys = [0, 1, 3, 5, 17, 17, 25, 35]\n",
    "xs = np.arange(len(ys))\n",
    "figure.line(xs, ys, legend=\"Neural Network\")\n",
    "figure.scatter(xs, ys, marker=\"x\", size=10, color=\"red\", legend=\"Neural Network\")\n",
    "figure.line(xs, [0, 0, 1, 1, 2, 3, 5, 9], color=\"orange\", legend=\"Boosted Decision tree\")\n",
    "figure.scatter(xs, [0, 0, 1, 1, 2, 3, 5, 9], marker=\"o\", size=10, color=\"green\", legend=\"Boosted Decision tree\")\n",
    "\n",
    "figure.xaxis.axis_label = \"Training Epoch\"\n",
    "figure.yaxis.axis_label = \"Classification Rate\"\n",
    "figure.legend.location = \"top_left\"\n",
    "show(figure)\n",
    "\n",
    "save(figure)"
   ]
  },
  {
   "cell_type": "markdown",
   "metadata": {},
   "source": [
    "# Other Plot Types"
   ]
  },
  {
   "cell_type": "markdown",
   "metadata": {},
   "source": [
    "They work slightly different in Bokeh so we omit that for now"
   ]
  },
  {
   "cell_type": "markdown",
   "metadata": {},
   "source": [
    "# Subplots"
   ]
  },
  {
   "cell_type": "code",
   "execution_count": null,
   "metadata": {},
   "outputs": [],
   "source": [
    "from bokeh.layouts import gridplot\n",
    "\n",
    "figure_1 = bokeh_figure(plot_width=900, plot_height=250)\n",
    "ys = [0, 1, 3, 5, 17, 17, 25, 35]\n",
    "xs = np.arange(len(ys))\n",
    "figure_1.line(xs, ys, legend=\"Neural Network\")\n",
    "figure_1.scatter(xs, ys, marker=\"x\", size=10, color=\"red\", legend=\"Neural Network\")\n",
    "figure_1.yaxis.axis_label = \"Classification Rate\"\n",
    "\n",
    "figure_2 = bokeh_figure(plot_width=900, plot_height=250, x_range=figure_1.x_range, y_range=figure_1.y_range)\n",
    "figure_2.line(xs, [0, 0, 1, 1, 2, 3, 5, 9], color=\"orange\", legend=\"Boosted Decision tree\")\n",
    "figure_2.scatter(xs, [0, 0, 1, 1, 2, 3, 5, 9], marker=\"o\", size=10, color=\"green\", legend=\"Boosted Decision tree\")\n",
    "figure_2.xaxis.axis_label = \"Training Epoch\"\n",
    "figure_2.yaxis.axis_label = \"Classification Rate\"\n",
    "\n",
    "# Syntax gridplot([[array of plots in first line],\n",
    "#                  [array of plots in second line],\n",
    "#                  ...])\n",
    "grid = gridplot([[figure_1], [figure_2]])\n",
    "\n",
    "show(grid)"
   ]
  },
  {
   "cell_type": "markdown",
   "metadata": {},
   "source": [
    "# Scaling Normal vs Log"
   ]
  },
  {
   "cell_type": "code",
   "execution_count": null,
   "metadata": {},
   "outputs": [],
   "source": [
    "import csv\n",
    "with open('price.csv', \"r\") as csvfile:\n",
    "    csv_data = list(csv.reader(csvfile, delimiter=\",\"))\n",
    "timestamps = [x[0] for x in csv_data]\n",
    "values = [float(x[1]) for x in csv_data]\n",
    "\n",
    "timestamps.reverse()\n",
    "values.reverse()"
   ]
  },
  {
   "cell_type": "code",
   "execution_count": null,
   "metadata": {},
   "outputs": [],
   "source": [
    "figure = bokeh_figure(plot_width=900, plot_height=250, y_axis_type=\"log\")\n",
    "ys = values\n",
    "xs = np.arange(len(ys))\n",
    "figure.line(xs, ys)\n",
    "\n",
    "figure.xaxis.axis_label = \"Age in Days\"\n",
    "figure.yaxis.axis_label = \"log(Value in $)\"\n",
    "show(figure)"
   ]
  },
  {
   "cell_type": "code",
   "execution_count": null,
   "metadata": {},
   "outputs": [],
   "source": [
    "figure = bokeh_figure(plot_width=900, plot_height=250)\n",
    "ys = values\n",
    "xs = np.arange(len(ys))\n",
    "figure.line(xs, ys)\n",
    "\n",
    "figure.xaxis.axis_label = \"Age in Days\"\n",
    "figure.yaxis.axis_label = \"Value in $\"\n",
    "show(figure)"
   ]
  },
  {
   "cell_type": "markdown",
   "metadata": {},
   "source": [
    "# Hovertool"
   ]
  },
  {
   "cell_type": "code",
   "execution_count": null,
   "metadata": {},
   "outputs": [],
   "source": [
    "import pandas as pd\n",
    "from bokeh.models import ColumnDataSource\n",
    "df = pd.read_csv(\"price.csv\", header=None, names=[\"date\", \"value\"])\n",
    "df['date'] = pd.to_datetime(df['date'])"
   ]
  },
  {
   "cell_type": "code",
   "execution_count": null,
   "metadata": {},
   "outputs": [],
   "source": [
    "from bokeh.models import HoverTool\n",
    "\n",
    "ys = values\n",
    "ts = timestamps\n",
    "xs = np.arange(len(ys))\n",
    "\n",
    "source = ColumnDataSource(df)\n",
    "hover = HoverTool(tooltips=[\n",
    "    (\"Date\", \"@date{%F}\"),\n",
    "    (\"Value in $\", \"@value{0,0.000}\")\n",
    "],\n",
    "                  formatters={'date': 'datetime'},\n",
    "                  mode=\"vline\")\n",
    "\n",
    "\n",
    "figure = bokeh_figure(plot_width=900, plot_height=250, tools=[\"box_zoom\", hover], x_axis_type='datetime')\n",
    "figure.line(\"date\", \"value\", source=source)\n",
    "\n",
    "figure.xaxis.axis_label = \"Age in Days\"\n",
    "figure.yaxis.axis_label = \"Value in $\"\n",
    "\n",
    "show(figure)"
   ]
  },
  {
   "cell_type": "code",
   "execution_count": null,
   "metadata": {},
   "outputs": [],
   "source": []
  }
 ],
 "metadata": {
  "kernelspec": {
   "display_name": "Python 3",
   "language": "python",
   "name": "python3"
  },
  "language_info": {
   "codemirror_mode": {
    "name": "ipython",
    "version": 3
   },
   "file_extension": ".py",
   "mimetype": "text/x-python",
   "name": "python",
   "nbconvert_exporter": "python",
   "pygments_lexer": "ipython3",
   "version": "3.7.0"
  }
 },
 "nbformat": 4,
 "nbformat_minor": 2
}

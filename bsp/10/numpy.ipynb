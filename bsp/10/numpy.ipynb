{
 "cells": [
  {
   "cell_type": "code",
   "execution_count": null,
   "metadata": {},
   "outputs": [],
   "source": [
    "# we need that for basic visualisation\n",
    "%matplotlib ipympl\n",
    "import matplotlib.pyplot as plt"
   ]
  },
  {
   "cell_type": "markdown",
   "metadata": {},
   "source": [
    "## Import"
   ]
  },
  {
   "cell_type": "code",
   "execution_count": null,
   "metadata": {},
   "outputs": [],
   "source": [
    "import numpy as np"
   ]
  },
  {
   "cell_type": "markdown",
   "metadata": {},
   "source": [
    "## Numpy Arrays\n",
    "\n",
    "```python\n",
    "np.array()\n",
    "```"
   ]
  },
  {
   "cell_type": "code",
   "execution_count": null,
   "metadata": {},
   "outputs": [],
   "source": [
    "tmp_list = [0, 1, 2, 3]\n",
    "tmp_array = np.array(tmp_list)\n",
    "\n",
    "print(\"List\", repr(tmp_list))\n",
    "print(\"Array\", repr(tmp_array))"
   ]
  },
  {
   "cell_type": "markdown",
   "metadata": {},
   "source": [
    "### Übliche Array Konstruktion"
   ]
  },
  {
   "cell_type": "code",
   "execution_count": null,
   "metadata": {},
   "outputs": [],
   "source": [
    "# directly from a list \n",
    "arr = np.array([0, 1, 2])\n",
    "print(repr(arr))"
   ]
  },
  {
   "cell_type": "code",
   "execution_count": null,
   "metadata": {},
   "outputs": [],
   "source": [
    "# numpy.arange()\n",
    "arr = np.arange(10)\n",
    "print(repr(arr))"
   ]
  },
  {
   "cell_type": "code",
   "execution_count": null,
   "metadata": {},
   "outputs": [],
   "source": [
    "# numpy.zeros() numpy.ones() numpy.full\n",
    "\n",
    "arr = np.zeros(10)\n",
    "print(\"Zeros\", repr(arr))\n",
    "\n",
    "arr = np.ones(10)\n",
    "print(\"Ones \", repr(arr))\n",
    "\n",
    "arr = np.full(10, 10)\n",
    "print(\"Full \", repr(arr))"
   ]
  },
  {
   "cell_type": "code",
   "execution_count": null,
   "metadata": {},
   "outputs": [],
   "source": [
    "# numpy.linspace()\n",
    "arr = np.linspace(0, 1, 11)\n",
    "print(repr(arr))"
   ]
  },
  {
   "cell_type": "code",
   "execution_count": null,
   "metadata": {},
   "outputs": [],
   "source": [
    "# numpy.random()\n",
    "arr = np.random.rand(10)\n",
    "print(repr(arr))"
   ]
  },
  {
   "cell_type": "markdown",
   "metadata": {},
   "source": [
    "### Datentypen\n",
    "```python\n",
    "array.dtype\n",
    "```"
   ]
  },
  {
   "cell_type": "code",
   "execution_count": null,
   "metadata": {},
   "outputs": [],
   "source": [
    "tmp_array = np.array([0, 1, 2, 3])\n",
    "print(repr(tmp_array.dtype))"
   ]
  },
  {
   "cell_type": "code",
   "execution_count": null,
   "metadata": {},
   "outputs": [],
   "source": [
    "np.ones(10).dtype"
   ]
  },
  {
   "cell_type": "code",
   "execution_count": null,
   "metadata": {},
   "outputs": [],
   "source": [
    "# What if we mix?\n",
    "\n",
    "tmp_array = np.array([0, 1, 2, 3, 0.5, 1.5, 2.5, 3.5])\n",
    "print(repr(tmp_array))\n",
    "print(repr(tmp_array.dtype))"
   ]
  },
  {
   "cell_type": "code",
   "execution_count": null,
   "metadata": {},
   "outputs": [],
   "source": [
    "# How about strings?\n",
    "\n",
    "tmp_array = np.array([\"0\", \"1\", \"2\", \"333333333333333333333333\"])\n",
    "print(repr(tmp_array))\n",
    "print(repr(tmp_array.dtype))"
   ]
  },
  {
   "cell_type": "markdown",
   "metadata": {},
   "source": [
    "### Simple Mathematische Operationen"
   ]
  },
  {
   "cell_type": "code",
   "execution_count": null,
   "metadata": {},
   "outputs": [],
   "source": [
    "simple_array = np.arange(10)\n",
    "print(simple_array + 5)\n",
    "print(simple_array * 5)\n",
    "print(simple_array**2)"
   ]
  },
  {
   "cell_type": "code",
   "execution_count": null,
   "metadata": {},
   "outputs": [],
   "source": [
    "# What if we add arrays?\n",
    "list_1 = [0, 1, 2, 3, 4]\n",
    "list_2 = [5, 6, 7, 8, 9]\n",
    "np_list_1 = np.array(list_1)\n",
    "np_list_2 = np.array(list_2)"
   ]
  },
  {
   "cell_type": "code",
   "execution_count": null,
   "metadata": {},
   "outputs": [],
   "source": [
    "print(list_1 + list_2)"
   ]
  },
  {
   "cell_type": "code",
   "execution_count": null,
   "metadata": {},
   "outputs": [],
   "source": [
    "print(np_list_1 + np_list_2)"
   ]
  },
  {
   "cell_type": "markdown",
   "metadata": {},
   "source": [
    "# Pandas"
   ]
  },
  {
   "cell_type": "code",
   "execution_count": null,
   "metadata": {},
   "outputs": [],
   "source": [
    "import pandas as pd"
   ]
  },
  {
   "cell_type": "code",
   "execution_count": null,
   "metadata": {},
   "outputs": [],
   "source": [
    "# Let's create some data\n",
    "list_int = np.arange(100)\n",
    "list_float = np.linspace(0, 10, 100, endpoint=False)\n",
    "list_rdm = np.random.randint(0, 100, 100) # <from>, <to>, <amount>\n",
    "list_sine = np.sin(list_float) * 100"
   ]
  },
  {
   "cell_type": "code",
   "execution_count": null,
   "metadata": {},
   "outputs": [],
   "source": [
    "# Transform it into a dataframe using a dictionary\n",
    "\n",
    "pandas_dict = {\n",
    "    \"ints\": list_int,\n",
    "    \"floats\": list_float,\n",
    "    \"randoms\": list_rdm,\n",
    "    \"sine wave\": list_sine\n",
    "}\n",
    "\n",
    "df = pd.DataFrame(pandas_dict)\n",
    "display(df)"
   ]
  },
  {
   "cell_type": "code",
   "execution_count": null,
   "metadata": {},
   "outputs": [],
   "source": [
    "# Access one row:\n",
    "\n",
    "print(df['ints'])\n",
    "print(type(df['ints']))"
   ]
  },
  {
   "cell_type": "code",
   "execution_count": null,
   "metadata": {},
   "outputs": [],
   "source": [
    "# Same thing as numpy array:\n",
    "\n",
    "print(repr(df['ints'].values))"
   ]
  },
  {
   "cell_type": "code",
   "execution_count": null,
   "metadata": {},
   "outputs": [],
   "source": [
    "# Access one cell:\n",
    "\n",
    "print(df['ints'][4])"
   ]
  },
  {
   "cell_type": "code",
   "execution_count": null,
   "metadata": {},
   "outputs": [],
   "source": [
    "# Let pandas plot it all\n",
    "df.plot()"
   ]
  },
  {
   "cell_type": "code",
   "execution_count": null,
   "metadata": {},
   "outputs": [],
   "source": [
    "# Let pandas plot it all\n",
    "df.plot()"
   ]
  },
  {
   "cell_type": "code",
   "execution_count": null,
   "metadata": {},
   "outputs": [],
   "source": []
  }
 ],
 "metadata": {
  "kernelspec": {
   "display_name": "3.7 - Patrick",
   "language": "python",
   "name": "patrick"
  },
  "language_info": {
   "codemirror_mode": {
    "name": "ipython",
    "version": 3
   },
   "file_extension": ".py",
   "mimetype": "text/x-python",
   "name": "python",
   "nbconvert_exporter": "python",
   "pygments_lexer": "ipython3",
   "version": "3.7.0"
  }
 },
 "nbformat": 4,
 "nbformat_minor": 2
}

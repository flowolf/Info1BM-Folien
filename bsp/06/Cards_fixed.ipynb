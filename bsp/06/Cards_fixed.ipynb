{
 "cells": [
  {
   "cell_type": "code",
   "execution_count": 1,
   "metadata": {
    "collapsed": false,
    "deletable": true,
    "editable": true
   },
   "outputs": [],
   "source": [
    "class Card:\n",
    "    numberOfCards = 0\n",
    "    def __init__(self, rank=None, suit=None):\n",
    "        if not suit or rank == None:\n",
    "            raise ValueError(\"error: suit and rank are needed\")\n",
    "        self._suit = suit\n",
    "        # possible ranks [0,1,2,3,4,5,6,7,8,9, 10,11,12]\n",
    "        #  ---> repr     [A,2,3,4,5,6,7,8,9,10, J, Q, K]\n",
    "        self._rank = rank\n",
    "        self._rank_names = [\"A\",2,3,4,5,6,7,8,9,10,\"J\",\"Q\",\"K\",\"A\"]\n",
    "        Card.numberOfCards += 1\n",
    "    def __del__(self):\n",
    "        Card.numberOfCards -= 1\n",
    "    def get_rank(self):\n",
    "        return self._rank\n",
    "    def get_suit(self):\n",
    "        return self._suit\n",
    "    def _less_than(self, c1, c2):\n",
    "        rc1 = c1.get_rank()\n",
    "        rc2 = c2.get_rank()\n",
    "        # zero is the Ace\n",
    "        if rc1 == 0:\n",
    "            print(\"is an ace\")\n",
    "            rc1 = 13\n",
    "        if rc2 == 0:\n",
    "            rc2 = 13\n",
    "#         if type(rc1) == str and rc1 in \"JQKA\":\n",
    "#             rc1 = 9 + \"JQKA\".index(rc1)\n",
    "#         if type(rc2) == str and rc2 in \"JQKA\":\n",
    "#             rc2 = 9 + \"JQKA\".index(rc2)\n",
    "        return rc1 < rc2\n",
    "    def __repr__(self):\n",
    "        return str(self._suit) + str(self._rank_names[self._rank])\n",
    "    def __lt__(self, c2):\n",
    "        return self._less_than(self,c2)\n",
    "    def __gt__(self, c2):\n",
    "        return self._less_than(c2, self)\n",
    "    def __eq__(self, c2):\n",
    "        return self._rank == c2.get_rank()\n",
    "    def __ne__(self, c2):\n",
    "        return self._rank != c2.get_rank()\n",
    "    def __mod__(self, c2):\n",
    "        return self._suit == c2.get_suit()\n",
    "    def __neg__(self):\n",
    "        r = self._rank\n",
    "        if r == 0:\n",
    "            r = 13\n",
    "        return -r\n"
   ]
  },
  {
   "cell_type": "code",
   "execution_count": 2,
   "metadata": {
    "collapsed": true,
    "deletable": true,
    "editable": true
   },
   "outputs": [],
   "source": [
    "class Hand:\n",
    "    def __init__(self, cards):\n",
    "        self.cards = cards"
   ]
  },
  {
   "cell_type": "code",
   "execution_count": 3,
   "metadata": {
    "collapsed": true,
    "deletable": true,
    "editable": true
   },
   "outputs": [],
   "source": [
    "class PokerHand(Hand):\n",
    "    def __gt__(self, other_hand):\n",
    "        if len(self.cards) != len(other_hand.cards):\n",
    "            raise ValueError(\"Hands need to have same number of cards!\")\n",
    "        if max(self.cards) > max(other_hand.cards):\n",
    "            return True\n",
    "        elif max(self.cards) == max(other_hand.cards):\n",
    "            h1 = sorted(self.cards)\n",
    "            h2 = sorted(other_hand.cards)\n",
    "            h1_max = False\n",
    "            for card1, card2 in zip(h1, h2):\n",
    "                if card1 > card2:\n",
    "                    h1_max = True\n",
    "                    break\n",
    "                elif card1 == card2:\n",
    "                    continue\n",
    "                else: # card1 < card2:\n",
    "                    h1_max = False\n",
    "                    break\n",
    "            return h1_max\n",
    "        else:\n",
    "            return False\n",
    "    def __eq__(self, other_hand):\n",
    "        pass\n"
   ]
  },
  {
   "cell_type": "code",
   "execution_count": 4,
   "metadata": {
    "collapsed": true,
    "deletable": true,
    "editable": true
   },
   "outputs": [],
   "source": [
    "class Deck:\n",
    "    \"\"\"standard French Deck (52 cards)\"\"\"\n",
    "    def __init__(self):\n",
    "        self.suits = [\"H\" , \"S\" , \"D\", \"C\"]\n",
    "        self.ranks = [x for x in range(0,13)] #[\"A\",2,3,4,5,6,7,8,9,10,\"J\",\"C\",\"Q\",\"K\"]\n",
    "        self.cards = [Card(r,s) for s in self.suits for r in self.ranks]\n"
   ]
  },
  {
   "cell_type": "code",
   "execution_count": 5,
   "metadata": {
    "collapsed": false,
    "deletable": true,
    "editable": true
   },
   "outputs": [
    {
     "name": "stdout",
     "output_type": "stream",
     "text": [
      "52\n",
      "[C9, C10, CJ, CQ, CK]\n"
     ]
    }
   ],
   "source": [
    "\n",
    "d = Deck()\n",
    "print(len(d.cards))\n",
    "print(d.cards[-5:])\n"
   ]
  },
  {
   "cell_type": "code",
   "execution_count": 6,
   "metadata": {
    "collapsed": false,
    "deletable": true,
    "editable": true
   },
   "outputs": [
    {
     "data": {
      "text/plain": [
       "True"
      ]
     },
     "execution_count": 6,
     "metadata": {},
     "output_type": "execute_result"
    }
   ],
   "source": [
    "c1 = Card(3,\"H\")\n",
    "c2 = Card(4,\"H\")\n",
    "c2 > c1\n"
   ]
  },
  {
   "cell_type": "code",
   "execution_count": 7,
   "metadata": {
    "collapsed": false,
    "deletable": true,
    "editable": true
   },
   "outputs": [
    {
     "data": {
      "text/plain": [
       "False"
      ]
     },
     "execution_count": 7,
     "metadata": {},
     "output_type": "execute_result"
    }
   ],
   "source": [
    "c2 == c1"
   ]
  },
  {
   "cell_type": "code",
   "execution_count": 8,
   "metadata": {
    "collapsed": true,
    "deletable": true,
    "editable": true
   },
   "outputs": [],
   "source": [
    "h1 = PokerHand([Card(0,\"H\"), Card(10,\"H\")])\n",
    "h2= PokerHand([Card(3,\"C\"), Card(4,\"C\")])"
   ]
  },
  {
   "cell_type": "code",
   "execution_count": 9,
   "metadata": {
    "collapsed": false,
    "deletable": true,
    "editable": true
   },
   "outputs": [
    {
     "name": "stdout",
     "output_type": "stream",
     "text": [
      "is an ace\n"
     ]
    },
    {
     "data": {
      "text/plain": [
       "True"
      ]
     },
     "execution_count": 9,
     "metadata": {},
     "output_type": "execute_result"
    }
   ],
   "source": [
    "h1 > h2"
   ]
  },
  {
   "cell_type": "code",
   "execution_count": 10,
   "metadata": {
    "collapsed": false,
    "deletable": true,
    "editable": true
   },
   "outputs": [
    {
     "name": "stdout",
     "output_type": "stream",
     "text": [
      "is an ace\n",
      "is an ace\n",
      "is an ace\n"
     ]
    },
    {
     "data": {
      "text/plain": [
       "False"
      ]
     },
     "execution_count": 10,
     "metadata": {},
     "output_type": "execute_result"
    }
   ],
   "source": [
    "h2 > h1"
   ]
  },
  {
   "cell_type": "code",
   "execution_count": 11,
   "metadata": {
    "collapsed": false,
    "deletable": true,
    "editable": true
   },
   "outputs": [
    {
     "data": {
      "text/plain": [
       "58"
      ]
     },
     "execution_count": 11,
     "metadata": {},
     "output_type": "execute_result"
    }
   ],
   "source": [
    "c1.numberOfCards"
   ]
  },
  {
   "cell_type": "code",
   "execution_count": 26,
   "metadata": {
    "collapsed": false,
    "deletable": true,
    "editable": true
   },
   "outputs": [
    {
     "data": {
      "text/plain": [
       "[HA, HJ]"
      ]
     },
     "execution_count": 26,
     "metadata": {},
     "output_type": "execute_result"
    }
   ],
   "source": [
    "sorted(h1.cards,key=lambda x: -x)"
   ]
  },
  {
   "cell_type": "code",
   "execution_count": 30,
   "metadata": {
    "collapsed": false,
    "deletable": true,
    "editable": true
   },
   "outputs": [
    {
     "data": {
      "text/plain": [
       "3"
      ]
     },
     "execution_count": 30,
     "metadata": {},
     "output_type": "execute_result"
    }
   ],
   "source": [
    "h2.cards[0]._rank"
   ]
  },
  {
   "cell_type": "code",
   "execution_count": 31,
   "metadata": {
    "collapsed": false,
    "deletable": true,
    "editable": true
   },
   "outputs": [
    {
     "name": "stdout",
     "output_type": "stream",
     "text": [
      "[H7, S5, D10, CJ, D9, H4, CQ, D3, SK, DJ, D4, C3, S10, D2, S7, C2, S4, HQ, C6, D8, D7, CA, C10, C4, H6, H9, HJ, CK, S8, SJ, S9, H10, HA, H2, H3, DA, C9, H5, S3, DQ, H8, SA, D6, HK, D5, C8, SQ, C7, C5, S2, DK, S6]\n"
     ]
    }
   ],
   "source": [
    "from random import shuffle\n",
    "shuffle(d.cards)\n",
    "print(d.cards)"
   ]
  },
  {
   "cell_type": "code",
   "execution_count": 50,
   "metadata": {
    "collapsed": true
   },
   "outputs": [],
   "source": [
    "import random"
   ]
  },
  {
   "cell_type": "code",
   "execution_count": 52,
   "metadata": {
    "collapsed": true
   },
   "outputs": [],
   "source": [
    "random."
   ]
  },
  {
   "cell_type": "code",
   "execution_count": 38,
   "metadata": {
    "collapsed": true,
    "deletable": true,
    "editable": true
   },
   "outputs": [],
   "source": [
    "# abgeleitet von Card\n",
    "class FancyCard(Card):\n",
    "    #def __init__(self, rank = None, suit= None):\n",
    "    #    super().__init__(rank=rank, suit=suit)\n",
    "    def __repr__(self):\n",
    "        spades =   '🂡🂢🂣🂤🂥🂦🂧🂨🂩🂪🂫🂭🂮'\n",
    "        hearts =   '🂱🂲🂳🂴🂵🂶🂷🂸🂹🂺🂻🂽🂾'\n",
    "        diamonds = '🃁🃂🃃🃄🃅🃆🃇🃈🃉🃊🃋🃍🃎'\n",
    "        clubs =    '🃑🃒🃓🃔🃕🃖🃗🃘🃙🃚🃛🃝🃞'\n",
    "        cards = {'S': spades, 'H': hearts, 'C': clubs, 'D': diamonds}\n",
    "        return cards[self._suit][self._rank]\n",
    "    def __del__(self):\n",
    "        #print(\"bye bye\")\n",
    "        pass"
   ]
  },
  {
   "cell_type": "code",
   "execution_count": 39,
   "metadata": {
    "collapsed": false,
    "deletable": true,
    "editable": true
   },
   "outputs": [],
   "source": [
    "c = FancyCard(rank=0, suit='H')"
   ]
  },
  {
   "cell_type": "code",
   "execution_count": 40,
   "metadata": {
    "collapsed": false,
    "deletable": true,
    "editable": true
   },
   "outputs": [
    {
     "data": {
      "text/plain": [
       "🂱"
      ]
     },
     "execution_count": 40,
     "metadata": {},
     "output_type": "execute_result"
    }
   ],
   "source": [
    "c"
   ]
  },
  {
   "cell_type": "code",
   "execution_count": 41,
   "metadata": {
    "collapsed": true,
    "deletable": true,
    "editable": true
   },
   "outputs": [],
   "source": [
    "class FancyDeck(Deck):\n",
    "    \"\"\"fancy French Deck (52 cards)\"\"\"\n",
    "    def __init__(self):\n",
    "        super().__init__()\n",
    "        self.cards = [FancyCard(r,s) for s in self.suits for r in self.ranks]\n"
   ]
  },
  {
   "cell_type": "code",
   "execution_count": 46,
   "metadata": {
    "collapsed": false,
    "deletable": true,
    "editable": true
   },
   "outputs": [],
   "source": [
    "fd = FancyDeck()"
   ]
  },
  {
   "cell_type": "code",
   "execution_count": 48,
   "metadata": {
    "collapsed": false,
    "deletable": true,
    "editable": true
   },
   "outputs": [],
   "source": [
    "shuffle(fd.cards)"
   ]
  },
  {
   "cell_type": "code",
   "execution_count": 49,
   "metadata": {
    "collapsed": false,
    "deletable": true,
    "editable": true,
    "scrolled": true
   },
   "outputs": [
    {
     "name": "stdout",
     "output_type": "stream",
     "text": [
      "[🃛, 🃔, 🂦, 🃈, 🂶, 🃘, 🂺, 🃝, 🂱, 🂧, 🂥, 🂣, 🂤, 🂢, 🃒, 🂽, 🂳, 🂵, 🃓, 🃍, 🃆, 🂲, 🃖, 🃂, 🂫, 🃄, 🂸, 🃞, 🂴, 🂡, 🃉, 🂾, 🂹, 🃚, 🂪, 🂷, 🂩, 🃅, 🂻, 🂨, 🂮, 🂭, 🃕, 🃊, 🃁, 🃇, 🃃, 🃎, 🃑, 🃋, 🃙, 🃗]\n"
     ]
    }
   ],
   "source": [
    "print(fd.cards)"
   ]
  },
  {
   "cell_type": "code",
   "execution_count": null,
   "metadata": {
    "collapsed": true
   },
   "outputs": [],
   "source": []
  }
 ],
 "metadata": {
  "kernelspec": {
   "display_name": "Python 3",
   "language": "python",
   "name": "python3"
  },
  "language_info": {
   "codemirror_mode": {
    "name": "ipython",
    "version": 3
   },
   "file_extension": ".py",
   "mimetype": "text/x-python",
   "name": "python",
   "nbconvert_exporter": "python",
   "pygments_lexer": "ipython3",
   "version": "3.5.2"
  }
 },
 "nbformat": 4,
 "nbformat_minor": 2
}
